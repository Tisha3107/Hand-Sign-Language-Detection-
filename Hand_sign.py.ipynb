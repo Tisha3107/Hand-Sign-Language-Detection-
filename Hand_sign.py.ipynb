{
 "cells": [
  {
   "cell_type": "code",
   "execution_count": 1,
   "id": "93d79917",
   "metadata": {},
   "outputs": [
    {
     "name": "stdout",
     "output_type": "stream",
     "text": [
      "WARNING:tensorflow:From C:\\Users\\Tisha Verma\\AppData\\Roaming\\Python\\Python311\\site-packages\\keras\\src\\losses.py:2976: The name tf.losses.sparse_softmax_cross_entropy is deprecated. Please use tf.compat.v1.losses.sparse_softmax_cross_entropy instead.\n",
      "\n"
     ]
    }
   ],
   "source": [
    "import os\n",
    "import cv2\n",
    "import numpy as np\n",
    "import tensorflow as tf\n",
    "from tensorflow import keras\n",
    "from tensorflow.keras import layers, models\n",
    "from sklearn.model_selection import train_test_split\n",
    "from tensorflow.keras.utils import to_categorical"
   ]
  },
  {
   "cell_type": "code",
   "execution_count": 2,
   "id": "e1082c7a",
   "metadata": {},
   "outputs": [],
   "source": [
    "dataset_path = \"C:/Users/Tisha Verma/Desktop/UML Project - Hand Signs/Data\"  # Change this to your dataset path\n",
    "labels = sorted(os.listdir(dataset_path))"
   ]
  },
  {
   "cell_type": "code",
   "execution_count": 3,
   "id": "8aacffb1",
   "metadata": {},
   "outputs": [],
   "source": [
    "data, target = [], []\n",
    "image_size = (64, 64)  # Resize images for uniformity"
   ]
  },
  {
   "cell_type": "code",
   "execution_count": 4,
   "id": "911050af",
   "metadata": {},
   "outputs": [],
   "source": [
    "# Load and preprocess data\n",
    "for label in labels:\n",
    "    label_path = os.path.join(dataset_path, label)\n",
    "    for img_name in os.listdir(label_path):\n",
    "        try:\n",
    "            img_path = os.path.join(label_path, img_name)\n",
    "            image = cv2.imread(img_path)\n",
    "            image = cv2.resize(image, image_size)\n",
    "            image = image / 255.0  # Normalize\n",
    "            data.append(image)\n",
    "            target.append(labels.index(label))\n",
    "        except Exception as e:\n",
    "            print(f\"Error loading image {img_path}: {e}\")"
   ]
  },
  {
   "cell_type": "code",
   "execution_count": 5,
   "id": "a81f23b5",
   "metadata": {},
   "outputs": [],
   "source": [
    "# Convert data to numpy arrays\n",
    "data = np.array(data)\n",
    "target = to_categorical(target, num_classes=len(labels))"
   ]
  },
  {
   "cell_type": "code",
   "execution_count": 6,
   "id": "620de6db",
   "metadata": {},
   "outputs": [],
   "source": [
    "# Split data into training and validation sets\n",
    "x_train, x_val, y_train, y_val = train_test_split(data, target, test_size=0.2, random_state=42)\n"
   ]
  },
  {
   "cell_type": "code",
   "execution_count": 7,
   "id": "cd5d10ac",
   "metadata": {},
   "outputs": [
    {
     "name": "stdout",
     "output_type": "stream",
     "text": [
      "Training data shape: (2078, 64, 64, 3)\n",
      "Validation data shape: (520, 64, 64, 3)\n"
     ]
    }
   ],
   "source": [
    "print(f\"Training data shape: {x_train.shape}\")\n",
    "print(f\"Validation data shape: {x_val.shape}\")"
   ]
  },
  {
   "cell_type": "code",
   "execution_count": 8,
   "id": "1d381eba",
   "metadata": {},
   "outputs": [
    {
     "name": "stdout",
     "output_type": "stream",
     "text": [
      "WARNING:tensorflow:From C:\\Users\\Tisha Verma\\AppData\\Roaming\\Python\\Python311\\site-packages\\keras\\src\\backend.py:873: The name tf.get_default_graph is deprecated. Please use tf.compat.v1.get_default_graph instead.\n",
      "\n",
      "WARNING:tensorflow:From C:\\Users\\Tisha Verma\\AppData\\Roaming\\Python\\Python311\\site-packages\\keras\\src\\layers\\pooling\\max_pooling2d.py:161: The name tf.nn.max_pool is deprecated. Please use tf.nn.max_pool2d instead.\n",
      "\n"
     ]
    }
   ],
   "source": [
    "# CNN Model Creation\n",
    "model = models.Sequential([\n",
    "    layers.Conv2D(32, (3, 3), activation='relu', input_shape=(64, 64, 3)),\n",
    "    layers.MaxPooling2D((2, 2)),\n",
    "\n",
    "    layers.Conv2D(64, (3, 3), activation='relu'),\n",
    "    layers.MaxPooling2D((2, 2)),\n",
    "\n",
    "    layers.Conv2D(128, (3, 3), activation='relu'),\n",
    "    layers.MaxPooling2D((2, 2)),\n",
    "\n",
    "    layers.Flatten(),\n",
    "    layers.Dense(128, activation='relu'),\n",
    "    layers.Dense(len(labels), activation='softmax')\n",
    "])"
   ]
  },
  {
   "cell_type": "code",
   "execution_count": 9,
   "id": "3c5434b4",
   "metadata": {},
   "outputs": [
    {
     "name": "stdout",
     "output_type": "stream",
     "text": [
      "WARNING:tensorflow:From C:\\Users\\Tisha Verma\\AppData\\Roaming\\Python\\Python311\\site-packages\\keras\\src\\optimizers\\__init__.py:309: The name tf.train.Optimizer is deprecated. Please use tf.compat.v1.train.Optimizer instead.\n",
      "\n"
     ]
    }
   ],
   "source": [
    "model.compile(optimizer='adam',\n",
    "              loss='categorical_crossentropy',\n",
    "              metrics=['accuracy'])"
   ]
  },
  {
   "cell_type": "code",
   "execution_count": 10,
   "id": "faaed734",
   "metadata": {},
   "outputs": [
    {
     "name": "stdout",
     "output_type": "stream",
     "text": [
      "Epoch 1/15\n",
      "WARNING:tensorflow:From C:\\Users\\Tisha Verma\\AppData\\Roaming\\Python\\Python311\\site-packages\\keras\\src\\utils\\tf_utils.py:492: The name tf.ragged.RaggedTensorValue is deprecated. Please use tf.compat.v1.ragged.RaggedTensorValue instead.\n",
      "\n",
      "WARNING:tensorflow:From C:\\Users\\Tisha Verma\\AppData\\Roaming\\Python\\Python311\\site-packages\\keras\\src\\engine\\base_layer_utils.py:384: The name tf.executing_eagerly_outside_functions is deprecated. Please use tf.compat.v1.executing_eagerly_outside_functions instead.\n",
      "\n",
      "65/65 [==============================] - 10s 99ms/step - loss: 2.0168 - accuracy: 0.4196 - val_loss: 0.5907 - val_accuracy: 0.7923\n",
      "Epoch 2/15\n",
      "65/65 [==============================] - 6s 94ms/step - loss: 0.2925 - accuracy: 0.9047 - val_loss: 0.1258 - val_accuracy: 0.9673\n",
      "Epoch 3/15\n",
      "65/65 [==============================] - 5s 84ms/step - loss: 0.1099 - accuracy: 0.9673 - val_loss: 0.0997 - val_accuracy: 0.9538\n",
      "Epoch 4/15\n",
      "65/65 [==============================] - 5s 83ms/step - loss: 0.0574 - accuracy: 0.9856 - val_loss: 0.0098 - val_accuracy: 1.0000\n",
      "Epoch 5/15\n",
      "65/65 [==============================] - 5s 84ms/step - loss: 0.0233 - accuracy: 0.9928 - val_loss: 0.0157 - val_accuracy: 0.9923\n",
      "Epoch 6/15\n",
      "65/65 [==============================] - 6s 87ms/step - loss: 0.0236 - accuracy: 0.9933 - val_loss: 0.0621 - val_accuracy: 0.9827\n",
      "Epoch 7/15\n",
      "65/65 [==============================] - 6s 87ms/step - loss: 0.0128 - accuracy: 0.9962 - val_loss: 0.0047 - val_accuracy: 0.9981\n",
      "Epoch 8/15\n",
      "65/65 [==============================] - 5s 84ms/step - loss: 0.0363 - accuracy: 0.9894 - val_loss: 0.2626 - val_accuracy: 0.9519\n",
      "Epoch 9/15\n",
      "65/65 [==============================] - 5s 82ms/step - loss: 0.0275 - accuracy: 0.9942 - val_loss: 0.0045 - val_accuracy: 0.9981\n",
      "Epoch 10/15\n",
      "65/65 [==============================] - 5s 76ms/step - loss: 0.0031 - accuracy: 0.9995 - val_loss: 0.0204 - val_accuracy: 0.9942\n",
      "Epoch 11/15\n",
      "65/65 [==============================] - 5s 76ms/step - loss: 0.0019 - accuracy: 0.9995 - val_loss: 8.1137e-04 - val_accuracy: 1.0000\n",
      "Epoch 12/15\n",
      "65/65 [==============================] - 5s 75ms/step - loss: 2.7305e-04 - accuracy: 1.0000 - val_loss: 5.5168e-04 - val_accuracy: 1.0000\n",
      "Epoch 13/15\n",
      "65/65 [==============================] - 5s 78ms/step - loss: 1.8909e-04 - accuracy: 1.0000 - val_loss: 4.8029e-04 - val_accuracy: 1.0000\n",
      "Epoch 14/15\n",
      "65/65 [==============================] - 6s 89ms/step - loss: 1.5344e-04 - accuracy: 1.0000 - val_loss: 4.2109e-04 - val_accuracy: 1.0000\n",
      "Epoch 15/15\n",
      "65/65 [==============================] - 5s 84ms/step - loss: 1.3696e-04 - accuracy: 1.0000 - val_loss: 3.9930e-04 - val_accuracy: 1.0000\n"
     ]
    }
   ],
   "source": [
    "# Model Training\n",
    "history = model.fit(x_train, y_train, epochs=15, batch_size=32, validation_data=(x_val, y_val))"
   ]
  },
  {
   "cell_type": "code",
   "execution_count": 11,
   "id": "34a3e871",
   "metadata": {},
   "outputs": [],
   "source": [
    "# Webcam Detection Function\n",
    "def predict_image(image):\n",
    "    resized_img = cv2.resize(image, image_size) / 255.0\n",
    "    pred = model.predict(np.expand_dims(resized_img, axis=0))\n",
    "    return labels[np.argmax(pred)]"
   ]
  },
  {
   "cell_type": "code",
   "execution_count": 15,
   "id": "e0f036e2",
   "metadata": {},
   "outputs": [
    {
     "name": "stderr",
     "output_type": "stream",
     "text": [
      "2025-03-29 23:24:41.501 WARNING streamlit.runtime.scriptrunner_utils.script_run_context: Thread 'MainThread': missing ScriptRunContext! This warning can be ignored when running in bare mode.\n",
      "2025-03-29 23:24:42.085 \n",
      "  \u001b[33m\u001b[1mWarning:\u001b[0m to view this Streamlit app on a browser, run it with the following\n",
      "  command:\n",
      "\n",
      "    streamlit run C:\\Users\\Tisha Verma\\anaconda3\\Lib\\site-packages\\ipykernel_launcher.py [ARGUMENTS]\n",
      "2025-03-29 23:24:42.087 Thread 'MainThread': missing ScriptRunContext! This warning can be ignored when running in bare mode.\n",
      "2025-03-29 23:24:42.088 Thread 'MainThread': missing ScriptRunContext! This warning can be ignored when running in bare mode.\n",
      "2025-03-29 23:24:42.089 Thread 'MainThread': missing ScriptRunContext! This warning can be ignored when running in bare mode.\n",
      "2025-03-29 23:24:42.090 Thread 'MainThread': missing ScriptRunContext! This warning can be ignored when running in bare mode.\n",
      "2025-03-29 23:24:42.093 Thread 'MainThread': missing ScriptRunContext! This warning can be ignored when running in bare mode.\n",
      "2025-03-29 23:24:42.094 Thread 'MainThread': missing ScriptRunContext! This warning can be ignored when running in bare mode.\n"
     ]
    }
   ],
   "source": [
    "# Streamlit Integration\n",
    "import streamlit as st\n",
    "\n",
    "st.title(\"Hand Sign Detection System\")\n",
    "run = st.button(\"Start Webcam\")\n",
    "if run:\n",
    "    cap = cv2.VideoCapture(0)\n",
    "    stframe = st.empty()\n",
    "\n",
    "    while True:\n",
    "        ret, frame = cap.read()\n",
    "        if not ret:\n",
    "            st.error(\"Webcam not accessible!\")\n",
    "            break\n",
    "\n",
    "        prediction = predict_image(frame)\n",
    "        cv2.putText(frame, prediction, (20, 50), cv2.FONT_HERSHEY_SIMPLEX, 1, (0, 255, 0), 2)\n",
    "        stframe.image(frame, channels=\"BGR\")\n",
    "\n",
    "        if cv2.waitKey(1) & 0xFF == ord('q'):\n",
    "            break\n",
    "\n",
    "    cap.release()"
   ]
  },
  {
   "cell_type": "code",
   "execution_count": null,
   "id": "2bfc06b5",
   "metadata": {},
   "outputs": [],
   "source": []
  }
 ],
 "metadata": {
  "kernelspec": {
   "display_name": "Python 3 (ipykernel)",
   "language": "python",
   "name": "python3"
  },
  "language_info": {
   "codemirror_mode": {
    "name": "ipython",
    "version": 3
   },
   "file_extension": ".py",
   "mimetype": "text/x-python",
   "name": "python",
   "nbconvert_exporter": "python",
   "pygments_lexer": "ipython3",
   "version": "3.11.5"
  }
 },
 "nbformat": 4,
 "nbformat_minor": 5
}
