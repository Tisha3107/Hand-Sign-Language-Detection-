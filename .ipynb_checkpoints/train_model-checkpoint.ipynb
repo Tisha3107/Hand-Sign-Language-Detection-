{
 "cells": [
  {
   "cell_type": "code",
   "execution_count": 1,
   "id": "df9c3bb5",
   "metadata": {},
   "outputs": [
    {
     "name": "stdout",
     "output_type": "stream",
     "text": [
      "WARNING:tensorflow:From C:\\Users\\Tisha Verma\\AppData\\Roaming\\Python\\Python311\\site-packages\\keras\\src\\losses.py:2976: The name tf.losses.sparse_softmax_cross_entropy is deprecated. Please use tf.compat.v1.losses.sparse_softmax_cross_entropy instead.\n",
      "\n"
     ]
    }
   ],
   "source": [
    "import os\n",
    "import argparse\n",
    "from hand_sign_recognition import get_model"
   ]
  },
  {
   "cell_type": "code",
   "execution_count": 2,
   "id": "0a426726",
   "metadata": {},
   "outputs": [
    {
     "name": "stderr",
     "output_type": "stream",
     "text": [
      "usage: ipykernel_launcher.py [-h] --dataset_path DATASET_PATH [--force]\n",
      "ipykernel_launcher.py: error: the following arguments are required: --dataset_path\n"
     ]
    },
    {
     "ename": "SystemExit",
     "evalue": "2",
     "output_type": "error",
     "traceback": [
      "An exception has occurred, use %tb to see the full traceback.\n",
      "\u001b[1;31mSystemExit\u001b[0m\u001b[1;31m:\u001b[0m 2\n"
     ]
    },
    {
     "name": "stderr",
     "output_type": "stream",
     "text": [
      "C:\\Users\\Tisha Verma\\anaconda3\\Lib\\site-packages\\IPython\\core\\interactiveshell.py:3534: UserWarning: To exit: use 'exit', 'quit', or Ctrl-D.\n",
      "  warn(\"To exit: use 'exit', 'quit', or Ctrl-D.\", stacklevel=1)\n"
     ]
    }
   ],
   "source": [
    "def main():\n",
    "    parser = argparse.ArgumentParser(description='Train hand sign recognition model')\n",
    "    parser.add_argument('--dataset_path', type=str, required=True,\n",
    "                        help='Path to the dataset directory containing A-Z folders with images')\n",
    "    parser.add_argument('--force', action='store_true',\n",
    "                        help='Force retraining even if model already exists')\n",
    "    \n",
    "    args = parser.parse_args()\n",
    "    \n",
    "    if not os.path.exists(args.dataset_path):\n",
    "        print(f\"Error: Dataset path '{args.dataset_path}' does not exist\")\n",
    "        return\n",
    "    \n",
    "    print(f\"Starting training process with dataset at {args.dataset_path}\")\n",
    "    print(f\"Force retrain: {args.force}\")\n",
    "    \n",
    "    try:\n",
    "        model, labels = get_model(args.dataset_path, force_train=args.force)\n",
    "        print(f\"Training completed successfully!\")\n",
    "        print(f\"Model recognizes {len(labels)} different hand signs: {', '.join(labels)}\")\n",
    "    except Exception as e:\n",
    "        print(f\"Error during training: {e}\")\n",
    "\n",
    "if __name__ == \"__main__\":\n",
    "    main()"
   ]
  },
  {
   "cell_type": "code",
   "execution_count": null,
   "id": "476829ee",
   "metadata": {},
   "outputs": [],
   "source": []
  }
 ],
 "metadata": {
  "kernelspec": {
   "display_name": "Python 3 (ipykernel)",
   "language": "python",
   "name": "python3"
  },
  "language_info": {
   "codemirror_mode": {
    "name": "ipython",
    "version": 3
   },
   "file_extension": ".py",
   "mimetype": "text/x-python",
   "name": "python",
   "nbconvert_exporter": "python",
   "pygments_lexer": "ipython3",
   "version": "3.11.5"
  }
 },
 "nbformat": 4,
 "nbformat_minor": 5
}
