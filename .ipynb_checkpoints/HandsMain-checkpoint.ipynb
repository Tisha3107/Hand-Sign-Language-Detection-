{
 "cells": [
  {
   "cell_type": "code",
   "execution_count": 1,
   "id": "59b0769a",
   "metadata": {},
   "outputs": [
    {
     "name": "stdout",
     "output_type": "stream",
     "text": [
      "WARNING:tensorflow:From C:\\Users\\Tisha Verma\\AppData\\Roaming\\Python\\Python311\\site-packages\\keras\\src\\losses.py:2976: The name tf.losses.sparse_softmax_cross_entropy is deprecated. Please use tf.compat.v1.losses.sparse_softmax_cross_entropy instead.\n",
      "\n"
     ]
    }
   ],
   "source": [
    "import os\n",
    "import cv2\n",
    "import numpy as np\n",
    "import tensorflow as tf\n",
    "from tensorflow import keras\n",
    "from tensorflow.keras import layers, models\n",
    "from sklearn.model_selection import train_test_split\n",
    "from tensorflow.keras.utils import to_categorical\n",
    "import matplotlib.pyplot as plt"
   ]
  },
  {
   "cell_type": "code",
   "execution_count": 2,
   "id": "daa66d0d",
   "metadata": {},
   "outputs": [],
   "source": [
    "# Configure TensorFlow to use memory growth - this helps with memory issues\n",
    "gpus = tf.config.experimental.list_physical_devices('GPU')\n",
    "if gpus:\n",
    "    try:\n",
    "        # Memory growth needs to be set before GPUs have been initialized\n",
    "        for gpu in gpus:\n",
    "            tf.config.experimental.set_memory_growth(gpu, True)\n",
    "    except RuntimeError as e:\n",
    "        print(e)"
   ]
  },
  {
   "cell_type": "code",
   "execution_count": 3,
   "id": "451503ef",
   "metadata": {},
   "outputs": [],
   "source": [
    "# Set memory limits to avoid crashes\n",
    "physical_devices = tf.config.list_physical_devices('GPU') \n",
    "if physical_devices:\n",
    "    tf.config.set_logical_device_configuration(physical_devices[0],\n",
    "        [tf.config.LogicalDeviceConfiguration(memory_limit=3072)]) # Adjust this value based on your GPU"
   ]
  },
  {
   "cell_type": "code",
   "execution_count": 4,
   "id": "e29f3190",
   "metadata": {},
   "outputs": [
    {
     "name": "stdout",
     "output_type": "stream",
     "text": [
      "Found 26 classes: ['A', 'B', 'C', 'D', 'E', 'F', 'G', 'H', 'I', 'J', 'K', 'L', 'M', 'N', 'O', 'P', 'Q', 'R', 'S', 'T', 'U', 'V', 'W', 'X', 'Y', 'Z']\n"
     ]
    }
   ],
   "source": [
    "# Path to your dataset\n",
    "dataset_path = \"C:/Users/Tisha Verma/Desktop/UML Project - Hand Signs/Data\"\n",
    "labels = sorted(os.listdir(dataset_path))\n",
    "print(f\"Found {len(labels)} classes: {labels}\")"
   ]
  },
  {
   "cell_type": "code",
   "execution_count": 5,
   "id": "07e5ceaf",
   "metadata": {},
   "outputs": [],
   "source": [
    "# Smaller batch size for data loading to reduce memory usage\n",
    "BATCH_SIZE = 16\n",
    "IMAGE_SIZE = (64, 64)  # Back to smaller image size to save memory"
   ]
  },
  {
   "cell_type": "code",
   "execution_count": 6,
   "id": "b805f68e",
   "metadata": {},
   "outputs": [],
   "source": [
    "def load_data_in_batches():\n",
    "    data = []\n",
    "    target = []\n",
    "    failed_images = 0\n",
    "    \n",
    "    print(\"Loading and preprocessing images...\")\n",
    "    for label_idx, label in enumerate(labels):\n",
    "        label_path = os.path.join(dataset_path, label)\n",
    "        print(f\"Processing class {label} ({label_idx+1}/{len(labels)})\")\n",
    "        \n",
    "        # Get list of image files in this class\n",
    "        image_files = os.listdir(label_path)\n",
    "        for i, img_name in enumerate(image_files):\n",
    "            try:\n",
    "                img_path = os.path.join(label_path, img_name)\n",
    "                image = cv2.imread(img_path)\n",
    "                if image is None:\n",
    "                    print(f\"Warning: Could not read image {img_path}\")\n",
    "                    failed_images += 1\n",
    "                    continue\n",
    "                    \n",
    "                image = cv2.resize(image, IMAGE_SIZE)\n",
    "                image = image / 255.0  # Normalize\n",
    "                data.append(image)\n",
    "                target.append(label_idx)\n",
    "                \n",
    "                # Process in smaller batches to save memory\n",
    "                if len(data) >= 500:  # Process 500 images at a time\n",
    "                    yield np.array(data), np.array(target)\n",
    "                    data, target = [], []  # Clear lists to free memory\n",
    "                \n",
    "                if (i+1) % 100 == 0:\n",
    "                    print(f\"  Processed {i+1}/{len(image_files)} images in {label}\")\n",
    "                \n",
    "            except Exception as e:\n",
    "                print(f\"Error loading image {img_path}: {e}\")\n",
    "                failed_images += 1\n",
    "    \n",
    "    # Yield any remaining data\n",
    "    if data:\n",
    "        yield np.array(data), np.array(target)\n",
    "    \n",
    "    print(f\"Completed processing. Failed to load {failed_images} images.\")"
   ]
  },
  {
   "cell_type": "code",
   "execution_count": 7,
   "id": "f428a6bc",
   "metadata": {},
   "outputs": [
    {
     "name": "stdout",
     "output_type": "stream",
     "text": [
      "Loading and preprocessing images...\n",
      "Processing class A (1/26)\n",
      "  Processed 100/122 images in A\n",
      "Processing class B (2/26)\n",
      "Processing class C (3/26)\n",
      "Processing class D (4/26)\n",
      "Processing class E (5/26)\n",
      "Processing class F (6/26)\n",
      "  Processed 100/108 images in F\n",
      "Processing class G (7/26)\n",
      "  Processed 100/102 images in G\n",
      "Processing class H (8/26)\n",
      "  Processed 100/101 images in H\n",
      "Processing class I (9/26)\n",
      "  Processed 100/111 images in I\n",
      "Processing class J (10/26)\n",
      "Processing class K (11/26)\n",
      "  Processed 100/106 images in K\n",
      "Processing class L (12/26)\n",
      "  Processed 100/105 images in L\n",
      "Processing class M (13/26)\n",
      "Processing class N (14/26)\n",
      "  Processed 100/110 images in N\n",
      "Processing class O (15/26)\n",
      "Processing class P (16/26)\n",
      "Processing class Q (17/26)\n",
      "  Processed 100/105 images in Q\n",
      "Processing class R (18/26)\n",
      "  Processed 100/103 images in R\n",
      "Processing class S (19/26)\n",
      "  Processed 100/103 images in S\n",
      "Processing class T (20/26)\n",
      "  Processed 100/106 images in T\n",
      "Processing class U (21/26)\n",
      "  Processed 100/113 images in U\n",
      "Processing class V (22/26)\n",
      "  Processed 100/102 images in V\n",
      "Processing class W (23/26)\n",
      "  Processed 100/118 images in W\n",
      "Processing class X (24/26)\n",
      "  Processed 100/114 images in X\n",
      "Processing class Y (25/26)\n",
      "  Processed 100/116 images in Y\n",
      "Processing class Z (26/26)\n",
      "Completed processing. Failed to load 0 images.\n"
     ]
    }
   ],
   "source": [
    "# Load and process data in batches\n",
    "all_data = []\n",
    "all_targets = []\n",
    "\n",
    "for batch_data, batch_targets in load_data_in_batches():\n",
    "    all_data.append(batch_data)\n",
    "    all_targets.append(batch_targets)"
   ]
  },
  {
   "cell_type": "code",
   "execution_count": 8,
   "id": "d9e6bcd3",
   "metadata": {},
   "outputs": [
    {
     "name": "stdout",
     "output_type": "stream",
     "text": [
      "Total loaded images: 2598\n"
     ]
    }
   ],
   "source": [
    "# Combine batches\n",
    "data = np.concatenate(all_data) if all_data else np.array([])\n",
    "target_array = np.concatenate(all_targets) if all_targets else np.array([])\n",
    "\n",
    "if len(data) == 0:\n",
    "    raise ValueError(\"No valid images were loaded from the dataset!\")\n",
    "\n",
    "print(f\"Total loaded images: {len(data)}\")\n",
    "\n",
    "# Convert targets to one-hot encoding\n",
    "target = to_categorical(target_array, num_classes=len(labels))\n",
    "\n",
    "# Split data into training and validation sets\n",
    "x_train, x_val, y_train, y_val = train_test_split(\n",
    "    data, target, test_size=0.2, random_state=42, stratify=target_array\n",
    ")"
   ]
  },
  {
   "cell_type": "code",
   "execution_count": 9,
   "id": "ff3c8524",
   "metadata": {},
   "outputs": [
    {
     "name": "stdout",
     "output_type": "stream",
     "text": [
      "Training data shape: (2078, 64, 64, 3)\n",
      "Validation data shape: (520, 64, 64, 3)\n"
     ]
    }
   ],
   "source": [
    "print(f\"Training data shape: {x_train.shape}\")\n",
    "print(f\"Validation data shape: {x_val.shape}\")"
   ]
  },
  {
   "cell_type": "code",
   "execution_count": 10,
   "id": "a422d5f9",
   "metadata": {},
   "outputs": [
    {
     "data": {
      "text/plain": [
       "0"
      ]
     },
     "execution_count": 10,
     "metadata": {},
     "output_type": "execute_result"
    }
   ],
   "source": [
    "# Free up memory\n",
    "del data, target, all_data, all_targets\n",
    "import gc\n",
    "gc.collect()"
   ]
  },
  {
   "cell_type": "code",
   "execution_count": 11,
   "id": "98eaafe8",
   "metadata": {},
   "outputs": [
    {
     "name": "stdout",
     "output_type": "stream",
     "text": [
      "WARNING:tensorflow:From C:\\Users\\Tisha Verma\\AppData\\Roaming\\Python\\Python311\\site-packages\\keras\\src\\backend.py:873: The name tf.get_default_graph is deprecated. Please use tf.compat.v1.get_default_graph instead.\n",
      "\n",
      "WARNING:tensorflow:From C:\\Users\\Tisha Verma\\AppData\\Roaming\\Python\\Python311\\site-packages\\keras\\src\\layers\\pooling\\max_pooling2d.py:161: The name tf.nn.max_pool is deprecated. Please use tf.nn.max_pool2d instead.\n",
      "\n"
     ]
    }
   ],
   "source": [
    "# Simpler model architecture to avoid memory issues\n",
    "model = models.Sequential([\n",
    "    # First convolutional block\n",
    "    layers.Conv2D(32, (3, 3), activation='relu', input_shape=(IMAGE_SIZE[0], IMAGE_SIZE[1], 3)),\n",
    "    layers.MaxPooling2D((2, 2)),\n",
    "    \n",
    "    # Second convolutional block\n",
    "    layers.Conv2D(64, (3, 3), activation='relu'),\n",
    "    layers.MaxPooling2D((2, 2)),\n",
    "    \n",
    "    # Third convolutional block\n",
    "    layers.Conv2D(128, (3, 3), activation='relu'),\n",
    "    layers.MaxPooling2D((2, 2)),\n",
    "    \n",
    "    # Fully connected layers\n",
    "    layers.Flatten(),\n",
    "    layers.Dropout(0.3),\n",
    "    layers.Dense(128, activation='relu'),\n",
    "    layers.Dense(len(labels), activation='softmax')\n",
    "])"
   ]
  },
  {
   "cell_type": "code",
   "execution_count": 12,
   "id": "6f3044a4",
   "metadata": {},
   "outputs": [
    {
     "name": "stdout",
     "output_type": "stream",
     "text": [
      "Model: \"sequential\"\n",
      "_________________________________________________________________\n",
      " Layer (type)                Output Shape              Param #   \n",
      "=================================================================\n",
      " conv2d (Conv2D)             (None, 62, 62, 32)        896       \n",
      "                                                                 \n",
      " max_pooling2d (MaxPooling2  (None, 31, 31, 32)        0         \n",
      " D)                                                              \n",
      "                                                                 \n",
      " conv2d_1 (Conv2D)           (None, 29, 29, 64)        18496     \n",
      "                                                                 \n",
      " max_pooling2d_1 (MaxPoolin  (None, 14, 14, 64)        0         \n",
      " g2D)                                                            \n",
      "                                                                 \n",
      " conv2d_2 (Conv2D)           (None, 12, 12, 128)       73856     \n",
      "                                                                 \n",
      " max_pooling2d_2 (MaxPoolin  (None, 6, 6, 128)         0         \n",
      " g2D)                                                            \n",
      "                                                                 \n",
      " flatten (Flatten)           (None, 4608)              0         \n",
      "                                                                 \n",
      " dropout (Dropout)           (None, 4608)              0         \n",
      "                                                                 \n",
      " dense (Dense)               (None, 128)               589952    \n",
      "                                                                 \n",
      " dense_1 (Dense)             (None, 26)                3354      \n",
      "                                                                 \n",
      "=================================================================\n",
      "Total params: 686554 (2.62 MB)\n",
      "Trainable params: 686554 (2.62 MB)\n",
      "Non-trainable params: 0 (0.00 Byte)\n",
      "_________________________________________________________________\n"
     ]
    }
   ],
   "source": [
    "# Model summary\n",
    "model.summary()"
   ]
  },
  {
   "cell_type": "code",
   "execution_count": 13,
   "id": "67f828b3",
   "metadata": {},
   "outputs": [
    {
     "name": "stdout",
     "output_type": "stream",
     "text": [
      "WARNING:tensorflow:From C:\\Users\\Tisha Verma\\AppData\\Roaming\\Python\\Python311\\site-packages\\keras\\src\\optimizers\\__init__.py:309: The name tf.train.Optimizer is deprecated. Please use tf.compat.v1.train.Optimizer instead.\n",
      "\n"
     ]
    }
   ],
   "source": [
    "# Compile model\n",
    "model.compile(\n",
    "    optimizer='adam',\n",
    "    loss='categorical_crossentropy',\n",
    "    metrics=['accuracy']\n",
    ")"
   ]
  },
  {
   "cell_type": "code",
   "execution_count": 14,
   "id": "ef72b5a5",
   "metadata": {},
   "outputs": [],
   "source": [
    "# Define callbacks\n",
    "early_stopping = tf.keras.callbacks.EarlyStopping(\n",
    "    monitor='val_loss', \n",
    "    patience=5, \n",
    "    restore_best_weights=True\n",
    ")"
   ]
  },
  {
   "cell_type": "code",
   "execution_count": 15,
   "id": "58b3ac7b",
   "metadata": {},
   "outputs": [],
   "source": [
    "# Use ReduceLROnPlateau instead of custom scheduler to save memory\n",
    "reduce_lr = tf.keras.callbacks.ReduceLROnPlateau(\n",
    "    monitor='val_loss', \n",
    "    factor=0.2, \n",
    "    patience=3, \n",
    "    min_lr=0.0001\n",
    ")"
   ]
  },
  {
   "cell_type": "code",
   "execution_count": 16,
   "id": "4a1e971b",
   "metadata": {},
   "outputs": [
    {
     "name": "stdout",
     "output_type": "stream",
     "text": [
      "Training model...\n",
      "Epoch 1/15\n",
      "WARNING:tensorflow:From C:\\Users\\Tisha Verma\\AppData\\Roaming\\Python\\Python311\\site-packages\\keras\\src\\utils\\tf_utils.py:492: The name tf.ragged.RaggedTensorValue is deprecated. Please use tf.compat.v1.ragged.RaggedTensorValue instead.\n",
      "\n",
      "WARNING:tensorflow:From C:\\Users\\Tisha Verma\\AppData\\Roaming\\Python\\Python311\\site-packages\\keras\\src\\engine\\base_layer_utils.py:384: The name tf.executing_eagerly_outside_functions is deprecated. Please use tf.compat.v1.executing_eagerly_outside_functions instead.\n",
      "\n",
      "130/130 [==============================] - 9s 45ms/step - loss: 2.1137 - accuracy: 0.3835 - val_loss: 0.4393 - val_accuracy: 0.8558 - lr: 0.0010\n",
      "Epoch 2/15\n",
      "130/130 [==============================] - 5s 38ms/step - loss: 0.3722 - accuracy: 0.8903 - val_loss: 0.1258 - val_accuracy: 0.9538 - lr: 0.0010\n",
      "Epoch 3/15\n",
      "130/130 [==============================] - 5s 38ms/step - loss: 0.1120 - accuracy: 0.9706 - val_loss: 0.0512 - val_accuracy: 0.9904 - lr: 0.0010\n",
      "Epoch 4/15\n",
      "130/130 [==============================] - 5s 37ms/step - loss: 0.0558 - accuracy: 0.9788 - val_loss: 0.0167 - val_accuracy: 0.9962 - lr: 0.0010\n",
      "Epoch 5/15\n",
      "130/130 [==============================] - 5s 37ms/step - loss: 0.0189 - accuracy: 0.9947 - val_loss: 0.0067 - val_accuracy: 0.9981 - lr: 0.0010\n",
      "Epoch 6/15\n",
      "130/130 [==============================] - 5s 38ms/step - loss: 0.0091 - accuracy: 0.9976 - val_loss: 0.0024 - val_accuracy: 1.0000 - lr: 0.0010\n",
      "Epoch 7/15\n",
      "130/130 [==============================] - 5s 37ms/step - loss: 0.0032 - accuracy: 0.9990 - val_loss: 0.0018 - val_accuracy: 1.0000 - lr: 0.0010\n",
      "Epoch 8/15\n",
      "130/130 [==============================] - 5s 38ms/step - loss: 0.0203 - accuracy: 0.9952 - val_loss: 0.0310 - val_accuracy: 0.9923 - lr: 0.0010\n",
      "Epoch 9/15\n",
      "130/130 [==============================] - 5s 36ms/step - loss: 0.0131 - accuracy: 0.9971 - val_loss: 0.0034 - val_accuracy: 0.9981 - lr: 0.0010\n",
      "Epoch 10/15\n",
      "130/130 [==============================] - 5s 37ms/step - loss: 0.0188 - accuracy: 0.9957 - val_loss: 0.0012 - val_accuracy: 1.0000 - lr: 0.0010\n",
      "Epoch 11/15\n",
      "130/130 [==============================] - 5s 36ms/step - loss: 0.0034 - accuracy: 0.9995 - val_loss: 0.0015 - val_accuracy: 1.0000 - lr: 0.0010\n",
      "Epoch 12/15\n",
      "130/130 [==============================] - 5s 36ms/step - loss: 0.0318 - accuracy: 0.9885 - val_loss: 0.0107 - val_accuracy: 0.9962 - lr: 0.0010\n",
      "Epoch 13/15\n",
      "130/130 [==============================] - 5s 39ms/step - loss: 0.0561 - accuracy: 0.9856 - val_loss: 0.0136 - val_accuracy: 0.9923 - lr: 0.0010\n",
      "Epoch 14/15\n",
      "130/130 [==============================] - 5s 38ms/step - loss: 0.0094 - accuracy: 0.9971 - val_loss: 8.1861e-04 - val_accuracy: 1.0000 - lr: 2.0000e-04\n",
      "Epoch 15/15\n",
      "130/130 [==============================] - 5s 37ms/step - loss: 0.0021 - accuracy: 0.9995 - val_loss: 7.1345e-04 - val_accuracy: 1.0000 - lr: 2.0000e-04\n"
     ]
    }
   ],
   "source": [
    "# Train model\n",
    "print(\"Training model...\")\n",
    "history = model.fit(\n",
    "    x_train, y_train,\n",
    "    epochs=15,\n",
    "    batch_size=BATCH_SIZE,\n",
    "    validation_data=(x_val, y_val),\n",
    "    callbacks=[early_stopping, reduce_lr],\n",
    "    verbose=1\n",
    ")"
   ]
  },
  {
   "cell_type": "code",
   "execution_count": 17,
   "id": "902a6b59",
   "metadata": {},
   "outputs": [
    {
     "name": "stdout",
     "output_type": "stream",
     "text": [
      "Model saved as 'hand_sign_model_main.h5'\n"
     ]
    },
    {
     "name": "stderr",
     "output_type": "stream",
     "text": [
      "C:\\Users\\Tisha Verma\\AppData\\Roaming\\Python\\Python311\\site-packages\\keras\\src\\engine\\training.py:3103: UserWarning: You are saving your model as an HDF5 file via `model.save()`. This file format is considered legacy. We recommend using instead the native Keras format, e.g. `model.save('my_model.keras')`.\n",
      "  saving_api.save_model(\n"
     ]
    }
   ],
   "source": [
    "# Save model\n",
    "model.save('hand_sign_model_main.h5')\n",
    "print(\"Model saved as 'hand_sign_model_main.h5'\")"
   ]
  },
  {
   "cell_type": "code",
   "execution_count": 18,
   "id": "7cf81010",
   "metadata": {},
   "outputs": [
    {
     "name": "stdout",
     "output_type": "stream",
     "text": [
      "17/17 [==============================] - 1s 27ms/step - loss: 7.1345e-04 - accuracy: 1.0000\n",
      "Test accuracy: 1.0000\n"
     ]
    }
   ],
   "source": [
    "# Evaluate model\n",
    "test_loss, test_acc = model.evaluate(x_val, y_val)\n",
    "print(f\"Test accuracy: {test_acc:.4f}\")"
   ]
  },
  {
   "cell_type": "code",
   "execution_count": 19,
   "id": "0dc3cc0a",
   "metadata": {},
   "outputs": [],
   "source": [
    "def predict_hand_sign(image):\n",
    "    # Preprocess the image\n",
    "    resized_img = cv2.resize(image, IMAGE_SIZE)\n",
    "    normalized_img = resized_img / 255.0\n",
    "    \n",
    "    # Make prediction\n",
    "    pred = model.predict(np.expand_dims(normalized_img, axis=0))[0]\n",
    "    \n",
    "    # Get the predicted class\n",
    "    predicted_class = np.argmax(pred)\n",
    "    confidence = pred[predicted_class] * 100\n",
    "    \n",
    "    return labels[predicted_class], confidence"
   ]
  },
  {
   "cell_type": "code",
   "execution_count": 20,
   "id": "fc174af9",
   "metadata": {},
   "outputs": [],
   "source": [
    "# Webcam implementation function\n",
    "def run_webcam():\n",
    "    cap = cv2.VideoCapture(0)\n",
    "    \n",
    "    print(\"Starting webcam. Press 'q' to quit.\")\n",
    "    \n",
    "    while True:\n",
    "        ret, frame = cap.read()\n",
    "        if not ret:\n",
    "            print(\"Failed to grab frame\")\n",
    "            break\n",
    "            \n",
    "        # Flip frame for mirror effect\n",
    "        frame = cv2.flip(frame, 1)\n",
    "        \n",
    "        # Draw rectangle for hand placement\n",
    "        h, w = frame.shape[:2]\n",
    "        center_x, center_y = w // 2, h // 2\n",
    "        rect_size = min(w, h) // 3\n",
    "        \n",
    "        cv2.rectangle(\n",
    "            frame, \n",
    "            (center_x - rect_size // 2, center_y - rect_size // 2),\n",
    "            (center_x + rect_size // 2, center_y + rect_size // 2),\n",
    "            (0, 255, 0), 2\n",
    "        )\n",
    "        \n",
    "        # Extract hand region for prediction\n",
    "        hand_region = frame[\n",
    "            center_y - rect_size // 2:center_y + rect_size // 2,\n",
    "            center_x - rect_size // 2:center_x + rect_size // 2\n",
    "        ]\n",
    "        \n",
    "        if hand_region.size > 0:\n",
    "            sign, confidence = predict_hand_sign(hand_region)\n",
    "            \n",
    "            # Display prediction on frame\n",
    "            cv2.putText(\n",
    "                frame, \n",
    "                f\"{sign}: {confidence:.1f}%\", \n",
    "                (20, 50), \n",
    "                cv2.FONT_HERSHEY_SIMPLEX, \n",
    "                1, (0, 255, 0), 2\n",
    "            )\n",
    "        \n",
    "        # Display the frame\n",
    "        cv2.imshow('Hand Sign Recognition', frame)\n",
    "        \n",
    "        if cv2.waitKey(1) & 0xFF == ord('q'):\n",
    "            break\n",
    "            \n",
    "    cap.release()\n",
    "    cv2.destroyAllWindows()"
   ]
  },
  {
   "cell_type": "code",
   "execution_count": 21,
   "id": "8d43199b",
   "metadata": {},
   "outputs": [],
   "source": [
    "# Function for Streamlit\n",
    "def streamlit_app():\n",
    "    try:\n",
    "        import streamlit as st\n",
    "        \n",
    "        st.title(\"Hand Sign Recognition System\")\n",
    "        st.write(\"This application recognizes hand signs for letters A-Z.\")\n",
    "        \n",
    "        run = st.button(\"Start Webcam\")\n",
    "        stop = st.button(\"Stop Webcam\")\n",
    "        \n",
    "        if run:\n",
    "            cap = cv2.VideoCapture(0)\n",
    "            stframe = st.empty()\n",
    "            result_text = st.empty()\n",
    "            \n",
    "            while True and not stop:\n",
    "                ret, frame = cap.read()\n",
    "                if not ret:\n",
    "                    st.error(\"Webcam not accessible!\")\n",
    "                    break\n",
    "                    \n",
    "                # Flip frame for mirror effect\n",
    "                frame = cv2.flip(frame, 1)\n",
    "                \n",
    "                # Draw rectangle for hand placement\n",
    "                h, w = frame.shape[:2]\n",
    "                center_x, center_y = w // 2, h // 2\n",
    "                rect_size = min(w, h) // 3\n",
    "                \n",
    "                cv2.rectangle(\n",
    "                    frame, \n",
    "                    (center_x - rect_size // 2, center_y - rect_size // 2),\n",
    "                    (center_x + rect_size // 2, center_y + rect_size // 2),\n",
    "                    (0, 255, 0), 2\n",
    "                )\n",
    "                \n",
    "                # Extract hand region for prediction\n",
    "                hand_region = frame[\n",
    "                    center_y - rect_size // 2:center_y + rect_size // 2,\n",
    "                    center_x - rect_size // 2:center_x + rect_size // 2\n",
    "                ]\n",
    "                \n",
    "                if hand_region.size > 0:\n",
    "                    sign, confidence = predict_hand_sign(hand_region)\n",
    "                    \n",
    "                    # Display prediction on frame\n",
    "                    cv2.putText(\n",
    "                        frame, \n",
    "                        f\"{sign}: {confidence:.1f}%\", \n",
    "                        (20, 50), \n",
    "                        cv2.FONT_HERSHEY_SIMPLEX, \n",
    "                        1, (0, 255, 0), 2\n",
    "                    )\n",
    "                    \n",
    "                    # Display prediction in Streamlit\n",
    "                    result_text.write(f\"### Detected Sign: {sign}\")\n",
    "                    result_text.write(f\"Confidence: {confidence:.1f}%\")\n",
    "                \n",
    "                stframe.image(frame, channels=\"BGR\")\n",
    "                \n",
    "                if cv2.waitKey(1) & 0xFF == ord('q'):\n",
    "                    break\n",
    "                    \n",
    "            cap.release()\n",
    "    except ImportError:\n",
    "        print(\"Streamlit not installed. Please install with: pip install streamlit\")\n",
    "        print(\"Running with OpenCV interface instead.\")\n",
    "        run_webcam()"
   ]
  },
  {
   "cell_type": "code",
   "execution_count": 22,
   "id": "737e8b33",
   "metadata": {},
   "outputs": [
    {
     "name": "stdout",
     "output_type": "stream",
     "text": [
      "Choose an interface:\n",
      "1. OpenCV (simple window)\n",
      "2. Streamlit (web interface)\n",
      "Enter 1 or 2: 2\n"
     ]
    },
    {
     "name": "stderr",
     "output_type": "stream",
     "text": [
      "2025-03-30 10:17:25.871 WARNING streamlit.runtime.scriptrunner_utils.script_run_context: Thread 'MainThread': missing ScriptRunContext! This warning can be ignored when running in bare mode.\n",
      "2025-03-30 10:17:26.244 \n",
      "  \u001b[33m\u001b[1mWarning:\u001b[0m to view this Streamlit app on a browser, run it with the following\n",
      "  command:\n",
      "\n",
      "    streamlit run C:\\Users\\Tisha Verma\\anaconda3\\Lib\\site-packages\\ipykernel_launcher.py [ARGUMENTS]\n",
      "2025-03-30 10:17:26.245 Thread 'MainThread': missing ScriptRunContext! This warning can be ignored when running in bare mode.\n",
      "2025-03-30 10:17:26.247 Thread 'MainThread': missing ScriptRunContext! This warning can be ignored when running in bare mode.\n",
      "2025-03-30 10:17:26.249 Thread 'MainThread': missing ScriptRunContext! This warning can be ignored when running in bare mode.\n",
      "2025-03-30 10:17:26.253 Thread 'MainThread': missing ScriptRunContext! This warning can be ignored when running in bare mode.\n",
      "2025-03-30 10:17:26.256 Thread 'MainThread': missing ScriptRunContext! This warning can be ignored when running in bare mode.\n",
      "2025-03-30 10:17:26.259 Thread 'MainThread': missing ScriptRunContext! This warning can be ignored when running in bare mode.\n",
      "2025-03-30 10:17:26.269 Thread 'MainThread': missing ScriptRunContext! This warning can be ignored when running in bare mode.\n",
      "2025-03-30 10:17:26.272 Thread 'MainThread': missing ScriptRunContext! This warning can be ignored when running in bare mode.\n",
      "2025-03-30 10:17:26.275 Thread 'MainThread': missing ScriptRunContext! This warning can be ignored when running in bare mode.\n",
      "2025-03-30 10:17:26.280 Thread 'MainThread': missing ScriptRunContext! This warning can be ignored when running in bare mode.\n",
      "2025-03-30 10:17:26.282 Thread 'MainThread': missing ScriptRunContext! This warning can be ignored when running in bare mode.\n",
      "2025-03-30 10:17:26.287 Thread 'MainThread': missing ScriptRunContext! This warning can be ignored when running in bare mode.\n",
      "2025-03-30 10:17:26.289 Thread 'MainThread': missing ScriptRunContext! This warning can be ignored when running in bare mode.\n",
      "2025-03-30 10:17:26.292 Thread 'MainThread': missing ScriptRunContext! This warning can be ignored when running in bare mode.\n",
      "2025-03-30 10:17:26.293 Thread 'MainThread': missing ScriptRunContext! This warning can be ignored when running in bare mode.\n"
     ]
    }
   ],
   "source": [
    "# Main execution\n",
    "if __name__ == \"__main__\":\n",
    "    # Ask which interface to use\n",
    "    print(\"Choose an interface:\")\n",
    "    print(\"1. OpenCV (simple window)\")\n",
    "    print(\"2. Streamlit (web interface)\")\n",
    "    choice = input(\"Enter 1 or 2: \")\n",
    "    \n",
    "    if choice == \"1\":\n",
    "        run_webcam()\n",
    "    else:\n",
    "        try:\n",
    "            streamlit_app()\n",
    "        except Exception as e:\n",
    "            print(f\"Error running Streamlit: {e}\")\n",
    "            print(\"Falling back to OpenCV interface...\")\n",
    "            run_webcam()"
   ]
  },
  {
   "cell_type": "code",
   "execution_count": null,
   "id": "3f027b6d",
   "metadata": {},
   "outputs": [],
   "source": []
  }
 ],
 "metadata": {
  "kernelspec": {
   "display_name": "Python 3 (ipykernel)",
   "language": "python",
   "name": "python3"
  },
  "language_info": {
   "codemirror_mode": {
    "name": "ipython",
    "version": 3
   },
   "file_extension": ".py",
   "mimetype": "text/x-python",
   "name": "python",
   "nbconvert_exporter": "python",
   "pygments_lexer": "ipython3",
   "version": "3.11.5"
  }
 },
 "nbformat": 4,
 "nbformat_minor": 5
}
