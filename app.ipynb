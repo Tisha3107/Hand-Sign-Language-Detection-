{
 "cells": [
  {
   "cell_type": "code",
   "execution_count": 1,
   "id": "b76ac425",
   "metadata": {},
   "outputs": [],
   "source": [
    "import streamlit as st\n",
    "import cv2\n",
    "import numpy as np\n",
    "import time\n",
    "import os"
   ]
  },
  {
   "cell_type": "code",
   "execution_count": 2,
   "id": "9b18f2ad",
   "metadata": {},
   "outputs": [
    {
     "name": "stdout",
     "output_type": "stream",
     "text": [
      "WARNING:tensorflow:From C:\\Users\\Tisha Verma\\AppData\\Roaming\\Python\\Python311\\site-packages\\keras\\src\\losses.py:2976: The name tf.losses.sparse_softmax_cross_entropy is deprecated. Please use tf.compat.v1.losses.sparse_softmax_cross_entropy instead.\n",
      "\n"
     ]
    },
    {
     "name": "stderr",
     "output_type": "stream",
     "text": [
      "2025-03-30 11:31:24.994 WARNING streamlit.runtime.scriptrunner_utils.script_run_context: Thread 'MainThread': missing ScriptRunContext! This warning can be ignored when running in bare mode.\n"
     ]
    }
   ],
   "source": [
    "# Import functions from the main module\n",
    "# Make sure hand_sign_recognition.py is in the same directory\n",
    "from hand_sign_recognition import get_model, predict_hand_sign, IMAGE_SIZE\n",
    "\n",
    "st.set_page_config(\n",
    "    page_title=\"Hand Sign Recognition\",\n",
    "    page_icon=\"✋\",\n",
    "    layout=\"wide\"\n",
    ")"
   ]
  },
  {
   "cell_type": "code",
   "execution_count": 3,
   "id": "4a865ef2",
   "metadata": {},
   "outputs": [
    {
     "name": "stderr",
     "output_type": "stream",
     "text": [
      "2025-03-30 11:31:25.018 WARNING streamlit.runtime.scriptrunner_utils.script_run_context: Thread 'MainThread': missing ScriptRunContext! This warning can be ignored when running in bare mode.\n",
      "2025-03-30 11:31:25.691 \n",
      "  \u001b[33m\u001b[1mWarning:\u001b[0m to view this Streamlit app on a browser, run it with the following\n",
      "  command:\n",
      "\n",
      "    streamlit run C:\\Users\\Tisha Verma\\anaconda3\\Lib\\site-packages\\ipykernel_launcher.py [ARGUMENTS]\n",
      "2025-03-30 11:31:25.692 Thread 'MainThread': missing ScriptRunContext! This warning can be ignored when running in bare mode.\n",
      "2025-03-30 11:31:25.693 Thread 'MainThread': missing ScriptRunContext! This warning can be ignored when running in bare mode.\n",
      "2025-03-30 11:31:25.694 Thread 'MainThread': missing ScriptRunContext! This warning can be ignored when running in bare mode.\n"
     ]
    },
    {
     "data": {
      "text/plain": [
       "DeltaGenerator()"
      ]
     },
     "execution_count": 3,
     "metadata": {},
     "output_type": "execute_result"
    }
   ],
   "source": [
    "# App header\n",
    "st.title(\"Hand Sign Recognition System\")\n",
    "st.markdown(\"---\")"
   ]
  },
  {
   "cell_type": "code",
   "execution_count": 4,
   "id": "1fc02f69",
   "metadata": {},
   "outputs": [
    {
     "name": "stderr",
     "output_type": "stream",
     "text": [
      "2025-03-30 11:31:25.719 Thread 'MainThread': missing ScriptRunContext! This warning can be ignored when running in bare mode.\n",
      "2025-03-30 11:31:25.722 Thread 'MainThread': missing ScriptRunContext! This warning can be ignored when running in bare mode.\n",
      "2025-03-30 11:31:25.723 Thread 'MainThread': missing ScriptRunContext! This warning can be ignored when running in bare mode.\n",
      "2025-03-30 11:31:25.725 Thread 'MainThread': missing ScriptRunContext! This warning can be ignored when running in bare mode.\n",
      "2025-03-30 11:31:25.727 Thread 'MainThread': missing ScriptRunContext! This warning can be ignored when running in bare mode.\n",
      "2025-03-30 11:31:25.728 Thread 'MainThread': missing ScriptRunContext! This warning can be ignored when running in bare mode.\n",
      "2025-03-30 11:31:25.729 Thread 'MainThread': missing ScriptRunContext! This warning can be ignored when running in bare mode.\n",
      "2025-03-30 11:31:25.731 Thread 'MainThread': missing ScriptRunContext! This warning can be ignored when running in bare mode.\n",
      "2025-03-30 11:31:25.732 Thread 'MainThread': missing ScriptRunContext! This warning can be ignored when running in bare mode.\n",
      "2025-03-30 11:31:25.733 Thread 'MainThread': missing ScriptRunContext! This warning can be ignored when running in bare mode.\n",
      "2025-03-30 11:31:25.734 Thread 'MainThread': missing ScriptRunContext! This warning can be ignored when running in bare mode.\n",
      "2025-03-30 11:31:25.736 Thread 'MainThread': missing ScriptRunContext! This warning can be ignored when running in bare mode.\n"
     ]
    }
   ],
   "source": [
    "# Sidebar with information\n",
    "with st.sidebar:\n",
    "    st.header(\"About\")\n",
    "    st.info(\n",
    "        \"This application uses a deep learning model to recognize hand signs \"\n",
    "        \"for letters A-Z in American Sign Language.\\n\\n\"\n",
    "        \"Position your hand in the green box and the app will predict the corresponding letter.\"\n",
    "    )\n",
    "    \n",
    "    st.header(\"Instructions\")\n",
    "    st.markdown(\n",
    "        \"\"\"\n",
    "        1. Click the **Start Camera** button to begin\n",
    "        2. Position your hand in the green rectangle\n",
    "        3. Hold your hand still for best results\n",
    "        4. Click **Stop Camera** when finished\n",
    "        \"\"\"\n",
    "    )\n",
    "    \n",
    "    st.markdown(\"---\")\n",
    "    st.caption(\"© 2025 Hand Sign Recognition Project\")"
   ]
  },
  {
   "cell_type": "code",
   "execution_count": 5,
   "id": "941a30e8",
   "metadata": {},
   "outputs": [],
   "source": [
    "# Load model (this happens only once when the app starts)\n",
    "@st.cache_resource\n",
    "def load_cached_model():\n",
    "    try:\n",
    "        model, labels = get_model()\n",
    "        return model, labels, True\n",
    "    except Exception as e:\n",
    "        st.error(f\"Error loading model: {e}\")\n",
    "        return None, None, False"
   ]
  },
  {
   "cell_type": "code",
   "execution_count": 6,
   "id": "7f027674",
   "metadata": {},
   "outputs": [
    {
     "name": "stderr",
     "output_type": "stream",
     "text": [
      "2025-03-30 11:31:25.763 Thread 'MainThread': missing ScriptRunContext! This warning can be ignored when running in bare mode.\n",
      "2025-03-30 11:31:25.764 Thread 'MainThread': missing ScriptRunContext! This warning can be ignored when running in bare mode.\n",
      "2025-03-30 11:31:25.766 Thread 'MainThread': missing ScriptRunContext! This warning can be ignored when running in bare mode.\n",
      "2025-03-30 11:31:25.769 Thread 'MainThread': missing ScriptRunContext! This warning can be ignored when running in bare mode.\n",
      "2025-03-30 11:31:25.770 Thread 'MainThread': missing ScriptRunContext! This warning can be ignored when running in bare mode.\n",
      "2025-03-30 11:31:25.772 Thread 'MainThread': missing ScriptRunContext! This warning can be ignored when running in bare mode.\n"
     ]
    },
    {
     "name": "stdout",
     "output_type": "stream",
     "text": [
      "Loading existing model from hand_sign_model.h5...\n",
      "WARNING:tensorflow:From C:\\Users\\Tisha Verma\\AppData\\Roaming\\Python\\Python311\\site-packages\\keras\\src\\backend.py:1398: The name tf.executing_eagerly_outside_functions is deprecated. Please use tf.compat.v1.executing_eagerly_outside_functions instead.\n",
      "\n"
     ]
    },
    {
     "name": "stderr",
     "output_type": "stream",
     "text": [
      "2025-03-30 11:31:26.270 Thread 'Thread-5': missing ScriptRunContext! This warning can be ignored when running in bare mode.\n",
      "2025-03-30 11:31:26.296 Thread 'Thread-6': missing ScriptRunContext! This warning can be ignored when running in bare mode.\n",
      "2025-03-30 11:31:26.297 Thread 'Thread-5': missing ScriptRunContext! This warning can be ignored when running in bare mode.\n",
      "2025-03-30 11:31:26.304 Thread 'Thread-6': missing ScriptRunContext! This warning can be ignored when running in bare mode.\n"
     ]
    },
    {
     "name": "stdout",
     "output_type": "stream",
     "text": [
      "WARNING:tensorflow:From C:\\Users\\Tisha Verma\\AppData\\Roaming\\Python\\Python311\\site-packages\\keras\\src\\layers\\pooling\\max_pooling2d.py:161: The name tf.nn.max_pool is deprecated. Please use tf.nn.max_pool2d instead.\n",
      "\n"
     ]
    },
    {
     "name": "stderr",
     "output_type": "stream",
     "text": [
      "2025-03-30 11:31:26.925 Thread 'MainThread': missing ScriptRunContext! This warning can be ignored when running in bare mode.\n",
      "2025-03-30 11:31:26.926 Thread 'MainThread': missing ScriptRunContext! This warning can be ignored when running in bare mode.\n",
      "2025-03-30 11:31:26.927 Thread 'MainThread': missing ScriptRunContext! This warning can be ignored when running in bare mode.\n",
      "2025-03-30 11:31:26.928 Thread 'MainThread': missing ScriptRunContext! This warning can be ignored when running in bare mode.\n"
     ]
    },
    {
     "name": "stdout",
     "output_type": "stream",
     "text": [
      "Model loaded successfully!\n"
     ]
    }
   ],
   "source": [
    "# Load model with a progress indicator\n",
    "with st.spinner(\"Loading model...\"):\n",
    "    model, labels, model_loaded = load_cached_model()\n",
    "\n",
    "if not model_loaded:\n",
    "    st.error(\"Failed to load the model. Please make sure the model file exists.\")\n",
    "    st.info(\"If you need to train the model first, run the training script separately.\")\n",
    "    st.stop()"
   ]
  },
  {
   "cell_type": "code",
   "execution_count": 7,
   "id": "8442da9d",
   "metadata": {},
   "outputs": [
    {
     "name": "stderr",
     "output_type": "stream",
     "text": [
      "2025-03-30 11:31:26.948 Thread 'MainThread': missing ScriptRunContext! This warning can be ignored when running in bare mode.\n",
      "2025-03-30 11:31:26.949 Thread 'MainThread': missing ScriptRunContext! This warning can be ignored when running in bare mode.\n",
      "2025-03-30 11:31:26.951 Thread 'MainThread': missing ScriptRunContext! This warning can be ignored when running in bare mode.\n",
      "2025-03-30 11:31:26.953 Thread 'MainThread': missing ScriptRunContext! This warning can be ignored when running in bare mode.\n",
      "2025-03-30 11:31:26.954 Thread 'MainThread': missing ScriptRunContext! This warning can be ignored when running in bare mode.\n",
      "2025-03-30 11:31:26.957 Thread 'MainThread': missing ScriptRunContext! This warning can be ignored when running in bare mode.\n",
      "2025-03-30 11:31:26.960 Thread 'MainThread': missing ScriptRunContext! This warning can be ignored when running in bare mode.\n",
      "2025-03-30 11:31:26.963 Thread 'MainThread': missing ScriptRunContext! This warning can be ignored when running in bare mode.\n",
      "2025-03-30 11:31:26.964 Thread 'MainThread': missing ScriptRunContext! This warning can be ignored when running in bare mode.\n",
      "2025-03-30 11:31:26.967 Thread 'MainThread': missing ScriptRunContext! This warning can be ignored when running in bare mode.\n",
      "2025-03-30 11:31:26.969 Thread 'MainThread': missing ScriptRunContext! This warning can be ignored when running in bare mode.\n",
      "2025-03-30 11:31:26.971 Thread 'MainThread': missing ScriptRunContext! This warning can be ignored when running in bare mode.\n",
      "2025-03-30 11:31:26.972 Thread 'MainThread': missing ScriptRunContext! This warning can be ignored when running in bare mode.\n",
      "2025-03-30 11:31:26.973 Thread 'MainThread': missing ScriptRunContext! This warning can be ignored when running in bare mode.\n",
      "2025-03-30 11:31:26.974 Thread 'MainThread': missing ScriptRunContext! This warning can be ignored when running in bare mode.\n",
      "2025-03-30 11:31:26.975 Thread 'MainThread': missing ScriptRunContext! This warning can be ignored when running in bare mode.\n",
      "2025-03-30 11:31:26.977 Thread 'MainThread': missing ScriptRunContext! This warning can be ignored when running in bare mode.\n",
      "2025-03-30 11:31:26.978 Thread 'MainThread': missing ScriptRunContext! This warning can be ignored when running in bare mode.\n",
      "2025-03-30 11:31:26.979 Thread 'MainThread': missing ScriptRunContext! This warning can be ignored when running in bare mode.\n",
      "2025-03-30 11:31:26.980 Thread 'MainThread': missing ScriptRunContext! This warning can be ignored when running in bare mode.\n",
      "2025-03-30 11:31:26.981 Thread 'MainThread': missing ScriptRunContext! This warning can be ignored when running in bare mode.\n",
      "2025-03-30 11:31:26.982 Thread 'MainThread': missing ScriptRunContext! This warning can be ignored when running in bare mode.\n",
      "2025-03-30 11:31:26.984 Thread 'MainThread': missing ScriptRunContext! This warning can be ignored when running in bare mode.\n",
      "2025-03-30 11:31:26.985 Thread 'MainThread': missing ScriptRunContext! This warning can be ignored when running in bare mode.\n",
      "2025-03-30 11:31:26.987 Thread 'MainThread': missing ScriptRunContext! This warning can be ignored when running in bare mode.\n"
     ]
    }
   ],
   "source": [
    "# UI layout\n",
    "col1, col2 = st.columns([3, 1])\n",
    "\n",
    "with col1:\n",
    "    # Camera feed\n",
    "    frame_placeholder = st.empty()\n",
    "\n",
    "with col2:\n",
    "    # Prediction display\n",
    "    st.subheader(\"Prediction\")\n",
    "    prediction_placeholder = st.empty()\n",
    "    confidence_placeholder = st.empty()\n",
    "    \n",
    "    # History of last 5 predictions\n",
    "    st.markdown(\"### Recent Predictions\")\n",
    "    history_placeholder = st.empty()\n",
    "    \n",
    "    # Buttons\n",
    "    start_button = st.button(\"Start Camera\", use_container_width=True)\n",
    "    stop_button = st.button(\"Stop Camera\", use_container_width=True)"
   ]
  },
  {
   "cell_type": "code",
   "execution_count": 8,
   "id": "03253735",
   "metadata": {},
   "outputs": [
    {
     "name": "stderr",
     "output_type": "stream",
     "text": [
      "2025-03-30 11:31:27.014 Thread 'MainThread': missing ScriptRunContext! This warning can be ignored when running in bare mode.\n",
      "2025-03-30 11:31:27.015 Session state does not function when running a script without `streamlit run`\n",
      "2025-03-30 11:31:27.016 Thread 'MainThread': missing ScriptRunContext! This warning can be ignored when running in bare mode.\n",
      "2025-03-30 11:31:27.017 Thread 'MainThread': missing ScriptRunContext! This warning can be ignored when running in bare mode.\n",
      "2025-03-30 11:31:27.018 Thread 'MainThread': missing ScriptRunContext! This warning can be ignored when running in bare mode.\n",
      "2025-03-30 11:31:27.019 Thread 'MainThread': missing ScriptRunContext! This warning can be ignored when running in bare mode.\n",
      "2025-03-30 11:31:27.021 Thread 'MainThread': missing ScriptRunContext! This warning can be ignored when running in bare mode.\n"
     ]
    }
   ],
   "source": [
    "# Main app logic\n",
    "if 'camera_running' not in st.session_state:\n",
    "    st.session_state.camera_running = False\n",
    "    \n",
    "if 'prediction_history' not in st.session_state:\n",
    "    st.session_state.prediction_history = []\n",
    "\n",
    "if start_button:\n",
    "    st.session_state.camera_running = True\n",
    "    \n",
    "if stop_button:\n",
    "    st.session_state.camera_running = False\n"
   ]
  },
  {
   "cell_type": "code",
   "execution_count": 9,
   "id": "d4fe8e9c",
   "metadata": {},
   "outputs": [],
   "source": [
    "def update_history_display():\n",
    "    history_html = \"\"\n",
    "    for p, c, t in st.session_state.prediction_history[-5:]:\n",
    "        # Ensure timestamp is a datetime object\n",
    "        if isinstance(t, float):\n",
    "            from datetime import datetime\n",
    "            t = datetime.fromtimestamp(t)\n",
    "            \n",
    "        # Format time as HH:MM:SS\n",
    "        time_str = t.strftime(\"%H:%M:%S\")\n",
    "        \n",
    "        # Use color coding based on confidence\n",
    "        if c >= 80:\n",
    "            color = \"green\"\n",
    "        elif c >= 50:\n",
    "            color = \"orange\"\n",
    "        else:\n",
    "            color = \"red\"\n",
    "        history_html += f\"<div style='margin-bottom:5px;'><span style='color:{color};font-weight:bold;'>{p}</span> ({c:.1f}%) <small>{time_str}</small></div>\"\n",
    "    \n",
    "    history_placeholder.markdown(history_html, unsafe_allow_html=True)"
   ]
  },
  {
   "cell_type": "code",
   "execution_count": 10,
   "id": "d462386a",
   "metadata": {},
   "outputs": [
    {
     "name": "stderr",
     "output_type": "stream",
     "text": [
      "2025-03-30 11:31:27.078 Thread 'MainThread': missing ScriptRunContext! This warning can be ignored when running in bare mode.\n",
      "2025-03-30 11:31:27.093 Thread 'MainThread': missing ScriptRunContext! This warning can be ignored when running in bare mode.\n",
      "2025-03-30 11:31:27.095 Thread 'MainThread': missing ScriptRunContext! This warning can be ignored when running in bare mode.\n",
      "2025-03-30 11:31:27.096 The `use_column_width` parameter has been deprecated and will be removed in a future release. Please utilize the `use_container_width` parameter instead.\n",
      "2025-03-30 11:31:27.097 Thread 'MainThread': missing ScriptRunContext! This warning can be ignored when running in bare mode.\n",
      "2025-03-30 11:31:27.167 Thread 'MainThread': missing ScriptRunContext! This warning can be ignored when running in bare mode.\n",
      "2025-03-30 11:31:27.168 Thread 'MainThread': missing ScriptRunContext! This warning can be ignored when running in bare mode.\n",
      "2025-03-30 11:31:27.169 Thread 'MainThread': missing ScriptRunContext! This warning can be ignored when running in bare mode.\n",
      "2025-03-30 11:31:27.171 Thread 'MainThread': missing ScriptRunContext! This warning can be ignored when running in bare mode.\n",
      "2025-03-30 11:31:27.173 Thread 'MainThread': missing ScriptRunContext! This warning can be ignored when running in bare mode.\n",
      "2025-03-30 11:31:27.174 Thread 'MainThread': missing ScriptRunContext! This warning can be ignored when running in bare mode.\n"
     ]
    }
   ],
   "source": [
    "# Run the webcam\n",
    "if st.session_state.camera_running:\n",
    "    try:\n",
    "        cap = cv2.VideoCapture(0)\n",
    "        if not cap.isOpened():\n",
    "            st.error(\"Could not open webcam. Please check your camera connection.\")\n",
    "            st.session_state.camera_running = False\n",
    "        else:\n",
    "            # Reset prediction highlight timer\n",
    "            last_prediction_time = 0\n",
    "            last_prediction = \"\"\n",
    "            last_confidence = 0\n",
    "            \n",
    "            while st.session_state.camera_running:\n",
    "                ret, frame = cap.read()\n",
    "                if not ret:\n",
    "                    st.error(\"Failed to get frame from webcam\")\n",
    "                    break\n",
    "                \n",
    "                # Flip frame for mirror effect\n",
    "                frame = cv2.flip(frame, 1)\n",
    "                \n",
    "                # Draw rectangle for hand placement\n",
    "                h, w = frame.shape[:2]\n",
    "                center_x, center_y = w // 2, h // 2\n",
    "                rect_size = min(w, h) // 3\n",
    "                \n",
    "                cv2.rectangle(\n",
    "                    frame, \n",
    "                    (center_x - rect_size // 2, center_y - rect_size // 2),\n",
    "                    (center_x + rect_size // 2, center_y + rect_size // 2),\n",
    "                    (0, 255, 0), 2\n",
    "                )\n",
    "                \n",
    "                # Extract hand region for prediction\n",
    "                hand_region = frame[\n",
    "                    center_y - rect_size // 2:center_y + rect_size // 2,\n",
    "                    center_x - rect_size // 2:center_x + rect_size // 2\n",
    "                ]\n",
    "                \n",
    "                # Make prediction every few frames\n",
    "                current_time = time.time()\n",
    "                if hand_region.size > 0 and current_time - last_prediction_time > 0.5:  # Predict every 0.5 seconds\n",
    "                    sign, confidence = predict_hand_sign(model, hand_region, labels)\n",
    "                    last_prediction = sign\n",
    "                    last_confidence = confidence\n",
    "                    last_prediction_time = current_time\n",
    "                    \n",
    "                    # Add to history with timestamp\n",
    "                    st.session_state.prediction_history.append((sign, confidence, time.time()))\n",
    "                    update_history_display()\n",
    "                \n",
    "                # Always display the last prediction\n",
    "                if last_prediction:\n",
    "                    # Display prediction on frame\n",
    "                    cv2.putText(\n",
    "                        frame, \n",
    "                        f\"{last_prediction}: {last_confidence:.1f}%\", \n",
    "                        (20, 50), \n",
    "                        cv2.FONT_HERSHEY_SIMPLEX, \n",
    "                        1, (0, 255, 0), 2\n",
    "                    )\n",
    "                    \n",
    "                    # Update UI elements\n",
    "                    prediction_placeholder.markdown(f\"<h1 style='font-size:72px;text-align:center;'>{last_prediction}</h1>\", unsafe_allow_html=True)\n",
    "                    \n",
    "                    # Color code the confidence bar\n",
    "                    if last_confidence >= 80:\n",
    "                        bar_color = \"green\"\n",
    "                    elif last_confidence >= 50:\n",
    "                        bar_color = \"orange\"\n",
    "                    else:\n",
    "                        bar_color = \"red\"\n",
    "                        \n",
    "                    confidence_placeholder.progress(int(last_confidence))\n",
    "                    confidence_placeholder.markdown(f\"<p style='text-align:center;color:{bar_color};'>Confidence: {last_confidence:.1f}%</p>\", unsafe_allow_html=True)\n",
    "                \n",
    "                # Convert color from BGR to RGB for Streamlit\n",
    "                frame = cv2.cvtColor(frame, cv2.COLOR_BGR2RGB)\n",
    "                frame_placeholder.image(frame, channels=\"RGB\", use_column_width=True)\n",
    "                \n",
    "                # Add slight delay to reduce CPU usage\n",
    "                time.sleep(0.03)\n",
    "                \n",
    "                # Convert history timestamps to datetime objects for display\n",
    "                for i in range(len(st.session_state.prediction_history)):\n",
    "                    p, c, t = st.session_state.prediction_history[i]\n",
    "                    if isinstance(t, float):\n",
    "                        from datetime import datetime\n",
    "                        st.session_state.prediction_history[i] = (p, c, datetime.fromtimestamp(t))\n",
    "            \n",
    "            cap.release()\n",
    "    except Exception as e:\n",
    "        st.error(f\"Error: {e}\")\n",
    "        st.session_state.camera_running = False\n",
    "else:\n",
    "    # Display a placeholder image when camera is not running\n",
    "    placeholder_img = np.zeros((480, 640, 3), dtype=np.uint8)\n",
    "    h, w = placeholder_img.shape[:2]\n",
    "    \n",
    "    # Add text\n",
    "    font = cv2.FONT_HERSHEY_SIMPLEX\n",
    "    text = \"Click 'Start Camera' to begin\"\n",
    "    text_size = cv2.getTextSize(text, font, 1, 2)[0]\n",
    "    text_x = (w - text_size[0]) // 2\n",
    "    text_y = (h + text_size[1]) // 2\n",
    "    \n",
    "    cv2.putText(placeholder_img, text, (text_x, text_y), font, 1, (255, 255, 255), 2)\n",
    "    \n",
    "    # Convert to RGB for Streamlit\n",
    "    placeholder_img = cv2.cvtColor(placeholder_img, cv2.COLOR_BGR2RGB)\n",
    "    frame_placeholder.image(placeholder_img, channels=\"RGB\", use_column_width=True)\n",
    "    \n",
    "    # Clear prediction display\n",
    "    prediction_placeholder.empty()\n",
    "    confidence_placeholder.empty()"
   ]
  },
  {
   "cell_type": "code",
   "execution_count": null,
   "id": "4418a81c",
   "metadata": {},
   "outputs": [],
   "source": []
  }
 ],
 "metadata": {
  "kernelspec": {
   "display_name": "Python 3 (ipykernel)",
   "language": "python",
   "name": "python3"
  },
  "language_info": {
   "codemirror_mode": {
    "name": "ipython",
    "version": 3
   },
   "file_extension": ".py",
   "mimetype": "text/x-python",
   "name": "python",
   "nbconvert_exporter": "python",
   "pygments_lexer": "ipython3",
   "version": "3.11.5"
  }
 },
 "nbformat": 4,
 "nbformat_minor": 5
}
